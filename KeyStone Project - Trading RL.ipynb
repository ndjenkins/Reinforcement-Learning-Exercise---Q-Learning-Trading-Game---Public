{
 "cells": [
  {
   "cell_type": "code",
   "execution_count": 1,
   "metadata": {},
   "outputs": [],
   "source": [
    "# Description:\n",
    "#             Reinforcement Learning Exercise - Q-Learning Trading Game.\n",
    "# Date:\n",
    "#             15-May-2020, Initial build\n",
    "#             08-Jun-2020, reviewed\n",
    "# Credits:\n",
    "#            This implementation: Nicholas Jenkins.\n",
    "#            \n",
    "#            This Notebook is a worked example based on: \n",
    "#            https://github.com/PacktPublishing/Hands-On-Machine-Learning-for-Algorithmic-Trading/blob/master/Chapter21/04_q_learning_for_trading.ipynb\n",
    "#            By: Stefan Jansen.\n",
    "#            The Phython code for the Gym TradingEnvironment is based on an example from MIT.\n",
    "# Strategy : 1. BUY - Invest capital for a long position in the stock\n",
    "#            2. FLAT - Hold cash only\n",
    "#            3. Sell Short - take a short position in the stock equal to the amount of capital.\n",
    "# note: to instlall TradingEnvironment.ph, CD to the TradingEnvironment directory and run the following Pip command:\n",
    "# pip install -e .\n",
    "\n",
    "#\n",
    "# Imports & Settings\n",
    "#\n",
    "\n",
    "%matplotlib inline\n",
    "from pathlib import Path\n",
    "from collections import deque, namedtuple\n",
    "from time import time\n",
    "from random import sample\n",
    "import numpy as np\n",
    "from numpy.random import random, randint, seed\n",
    "import pandas as pd\n",
    "\n",
    "import matplotlib.pyplot as plt\n",
    "from matplotlib.ticker import FuncFormatter\n",
    "import seaborn as sns\n",
    "\n",
    "\n",
    "import tensorflow.compat.v1 as tf\n",
    "\n",
    "import gym\n",
    "from gym.envs.registration import register"
   ]
  },
  {
   "cell_type": "code",
   "execution_count": 2,
   "metadata": {},
   "outputs": [],
   "source": [
    "sns.set_style('darkgrid')"
   ]
  },
  {
   "cell_type": "code",
   "execution_count": 3,
   "metadata": {},
   "outputs": [],
   "source": [
    "#from pathlib import Path\n",
    "\n",
    "#pd.set_option('display.expand_frame_repr', False)"
   ]
  },
  {
   "cell_type": "code",
   "execution_count": 4,
   "metadata": {},
   "outputs": [],
   "source": [
    "#DATA_STORE = Path('/Users/nicholasjenkins/Documents/TradingEnvironment/data/quandl/wiki/prices/assets.h5')"
   ]
  },
  {
   "cell_type": "code",
   "execution_count": 5,
   "metadata": {},
   "outputs": [],
   "source": [
    "# convert the downloaded Stock prices to HDF format from CSV format\n",
    "\n",
    "# df = (pd.read_csv('/Users/nicholasjenkins/Documents/TradingEnvironment/data/wiki_prices.csv',\n",
    "#                 parse_dates=['date'],\n",
    "#                 index_col=['date', 'ticker'],\n",
    "#                 infer_datetime_format=True)\n",
    "#     .sort_index())\n",
    "\n",
    "#print(df.info(null_counts=True))\n",
    "#with pd.HDFStore(DATA_STORE) as store:\n",
    "#    store.put('/Users/nicholasjenkins/Documents/TradingEnvironment/data/quandl/wiki/prices', df)"
   ]
  },
  {
   "cell_type": "code",
   "execution_count": 6,
   "metadata": {},
   "outputs": [],
   "source": [
    "def format_time(t):\n",
    "    m_, s = divmod(t, 60)\n",
    "    h, m = divmod(m_, 60)\n",
    "    return '{:02.0f}:{:05.2f}'.format(m, s)"
   ]
  },
  {
   "cell_type": "code",
   "execution_count": 7,
   "metadata": {},
   "outputs": [],
   "source": [
    "def track_results(episode, episode_nav,\n",
    "                  market_nav, ratio,\n",
    "                  total,\n",
    "                  epsilon):\n",
    "    time_ma = np.mean([episode_time[-100:]])\n",
    "    T = np.sum(episode_time)\n",
    "\n",
    "    print('{:>4d} | NAV: {:>5.3f} | Market NAV: {:>5.3f} | Delta: {:4.0f} | {} | '\n",
    "          'eps: {:>6.3f}'.format(episode,\n",
    "                                  episode_nav,\n",
    "                                  market_nav,\n",
    "                                  ratio,\n",
    "                                  format_time(total),\n",
    "                                  epsilon))"
   ]
  },
  {
   "cell_type": "code",
   "execution_count": 8,
   "metadata": {},
   "outputs": [],
   "source": [
    "#\n",
    "# Register the Trading environment from Gym\n",
    "#\n",
    "\n",
    "register(\n",
    "    id='trading-v0',\n",
    "    entry_point='trading_env:TradingEnvironment',\n",
    "    max_episode_steps=10000\n",
    ")"
   ]
  },
  {
   "cell_type": "code",
   "execution_count": 9,
   "metadata": {},
   "outputs": [
    {
     "name": "stderr",
     "output_type": "stream",
     "text": [
      "INFO:trading_env:trading_env logger started.\n",
      "INFO:trading_env:in preprocess()...\n",
      "/Library/Frameworks/Python.framework/Versions/3.8/lib/python3.8/site-packages/gym/logger.py:30: UserWarning: \u001b[33mWARN: Box bound precision lowered by casting to float32\u001b[0m\n",
      "  warnings.warn(colorize('%s: %s'%('WARN', msg % args), 'yellow'))\n"
     ]
    }
   ],
   "source": [
    "#\n",
    "#instantiate the trading environment\n",
    "#\n",
    "\n",
    "trading_environment = gym.make('trading-v0')\n"
   ]
  },
  {
   "cell_type": "code",
   "execution_count": 10,
   "metadata": {},
   "outputs": [],
   "source": [
    "#trading_environment.env.trading_cost_bps = 1e-3\n",
    "#trading_environment.env.time_cost_bps = 1e-4\n",
    "#trading_environment.env.ticker = 'AAPL'\n",
    "#trading_environment.seed(42)"
   ]
  },
  {
   "cell_type": "code",
   "execution_count": 11,
   "metadata": {},
   "outputs": [],
   "source": [
    "#\n",
    "#get enviroment parameters\n",
    "#\n",
    "\n",
    "state_dim = trading_environment.observation_space.shape[0]  # number of dimensions in state\n",
    "n_actions = trading_environment.action_space.n  # number of actions\n",
    "max_episode_steps = trading_environment.spec.max_episode_steps  # max number of steps per episode"
   ]
  },
  {
   "cell_type": "code",
   "execution_count": 12,
   "metadata": {},
   "outputs": [],
   "source": [
    "# Define hyperparameters\n",
    "\n",
    "gamma=.99,  # discount factor\n",
    "tau=100  # target network update frequency"
   ]
  },
  {
   "cell_type": "code",
   "execution_count": 13,
   "metadata": {},
   "outputs": [],
   "source": [
    "#define Neural Network parameters\n",
    "\n",
    "layers=(256,) * 3  # units per layer\n",
    "learning_rate=5e-5  # learning rate\n",
    "l2_reg=1e-6  # L2 regularization"
   ]
  },
  {
   "cell_type": "code",
   "execution_count": 14,
   "metadata": {},
   "outputs": [],
   "source": [
    "# experience reply\n",
    "\n",
    "replay_capacity=int(1e6)\n",
    "minibatch_size=5\n"
   ]
  },
  {
   "cell_type": "code",
   "execution_count": 15,
   "metadata": {},
   "outputs": [],
   "source": [
    "# greedy policy\n",
    "\n",
    "epsilon_start=1.0\n",
    "epsilon_end=0.1\n",
    "epsilon_linear_steps=5e5\n",
    "epsilon_exp_decay=.9999"
   ]
  },
  {
   "cell_type": "code",
   "execution_count": 16,
   "metadata": {},
   "outputs": [
    {
     "name": "stdout",
     "output_type": "stream",
     "text": [
      "WARNING:tensorflow:From /Library/Frameworks/Python.framework/Versions/3.8/lib/python3.8/site-packages/tensorflow/python/compat/v2_compat.py:96: disable_resource_variables (from tensorflow.python.ops.variable_scope) is deprecated and will be removed in a future version.\n",
      "Instructions for updating:\n",
      "non-resource variables are not supported in the long term\n"
     ]
    },
    {
     "name": "stderr",
     "output_type": "stream",
     "text": [
      "WARNING:tensorflow:From /Library/Frameworks/Python.framework/Versions/3.8/lib/python3.8/site-packages/tensorflow/python/compat/v2_compat.py:96: disable_resource_variables (from tensorflow.python.ops.variable_scope) is deprecated and will be removed in a future version.\n",
      "Instructions for updating:\n",
      "non-resource variables are not supported in the long term\n"
     ]
    }
   ],
   "source": [
    "# create nueral network\n",
    "\n",
    "tf.disable_v2_behavior()\n",
    "\n",
    "tf.reset_default_graph()"
   ]
  },
  {
   "cell_type": "code",
   "execution_count": 17,
   "metadata": {},
   "outputs": [],
   "source": [
    "# Dense Layers\n",
    "# The create_network function generates the three dense layers that can be trained and/or reused \n",
    "# as required by the Q network and its slower-moving target network:\n",
    "\n",
    "def create_network(s, layers, trainable, reuse, n_actions=4):\n",
    "    \"\"\"Generate Q and target network with same structure\"\"\"\n",
    "    for layer, units in enumerate(layers):\n",
    "        x = tf.layers.dense(inputs=s if layer == 0 else x,\n",
    "                            units=units,\n",
    "                            activation=tf.nn.relu,\n",
    "                            trainable=trainable,\n",
    "                            reuse=reuse,\n",
    "                            name='dense_{}'.format(layer))\n",
    "    return tf.squeeze(tf.layers.dense(inputs=x,\n",
    "                                      units=n_actions,\n",
    "                                      trainable=trainable,\n",
    "                                      reuse=reuse,\n",
    "                                      name='output'))"
   ]
  },
  {
   "cell_type": "code",
   "execution_count": 18,
   "metadata": {},
   "outputs": [],
   "source": [
    "state = tf.placeholder(dtype=tf.float32, shape=[None, state_dim])  # input to Q network\n",
    "next_state = tf.placeholder(dtype=tf.float32, shape=[None, state_dim])  # input to target network\n",
    "action = tf.placeholder(dtype=tf.int32, shape=[None])  # action indices (indices of Q network output)\n",
    "reward = tf.placeholder(dtype=tf.float32, shape=[None])  # rewards for target computation\n",
    "not_done = tf.placeholder(dtype=tf.float32, shape=[None])  # indicators for target computation"
   ]
  },
  {
   "cell_type": "code",
   "execution_count": 19,
   "metadata": {},
   "outputs": [],
   "source": [
    "# Episode Counter\n",
    "# We add a variable to keep track of episodes:\n",
    "    \n",
    "episode_count = tf.Variable(0.0, trainable=False, name='episode_count')\n",
    "add_episode = episode_count.assign_add(1)"
   ]
  },
  {
   "cell_type": "code",
   "execution_count": 20,
   "metadata": {},
   "outputs": [
    {
     "name": "stdout",
     "output_type": "stream",
     "text": [
      "WARNING:tensorflow:From <ipython-input-17-ced92620d47a>:8: dense (from tensorflow.python.layers.core) is deprecated and will be removed in a future version.\n",
      "Instructions for updating:\n",
      "Use keras.layers.Dense instead.\n"
     ]
    },
    {
     "name": "stderr",
     "output_type": "stream",
     "text": [
      "WARNING:tensorflow:From <ipython-input-17-ced92620d47a>:8: dense (from tensorflow.python.layers.core) is deprecated and will be removed in a future version.\n",
      "Instructions for updating:\n",
      "Use keras.layers.Dense instead.\n"
     ]
    },
    {
     "name": "stdout",
     "output_type": "stream",
     "text": [
      "WARNING:tensorflow:From /Library/Frameworks/Python.framework/Versions/3.8/lib/python3.8/site-packages/tensorflow/python/layers/core.py:187: Layer.apply (from tensorflow.python.keras.engine.base_layer_v1) is deprecated and will be removed in a future version.\n",
      "Instructions for updating:\n",
      "Please use `layer.__call__` method instead.\n"
     ]
    },
    {
     "name": "stderr",
     "output_type": "stream",
     "text": [
      "WARNING:tensorflow:From /Library/Frameworks/Python.framework/Versions/3.8/lib/python3.8/site-packages/tensorflow/python/layers/core.py:187: Layer.apply (from tensorflow.python.keras.engine.base_layer_v1) is deprecated and will be removed in a future version.\n",
      "Instructions for updating:\n",
      "Please use `layer.__call__` method instead.\n"
     ]
    }
   ],
   "source": [
    "\n",
    "# Deep Q Networks\n",
    "# We will create two DQNs to predict q values for the current \n",
    "# and next state, where we hold the weights for the second network that's fixed when predicting the next state:\n",
    "\n",
    "with tf.variable_scope('Q_Network'):\n",
    "    # Q network applied to current observation\n",
    "    q_action_values = create_network(state,\n",
    "                                     layers=layers,\n",
    "                                     trainable=True,\n",
    "                                     reuse=False)\n",
    "\n",
    "    # Q network applied to next_observation\n",
    "    next_q_action_values = tf.stop_gradient(create_network(next_state,\n",
    "                                                           layers=layers,\n",
    "                                                           trainable=False,\n",
    "                                                           reuse=True))"
   ]
  },
  {
   "cell_type": "code",
   "execution_count": 21,
   "metadata": {},
   "outputs": [],
   "source": [
    "# Slow-Moving Target Network\n",
    "# In addition, we will create the target network that we update every tau periods:\n",
    "\n",
    "with tf.variable_scope('Target_Network', reuse=False):\n",
    "    target_action_values = tf.stop_gradient(create_network(next_state,\n",
    "                                                           layers=layers,\n",
    "                                                           trainable=False,\n",
    "                                                           reuse=False))"
   ]
  },
  {
   "cell_type": "code",
   "execution_count": 22,
   "metadata": {},
   "outputs": [],
   "source": [
    "# Collect Variables and Operations\n",
    "# To build TensorFlow's computational graph, we need to collect the relevant variables and operations:\n",
    "\n",
    "q_network_variables = tf.get_collection(tf.GraphKeys.TRAINABLE_VARIABLES, scope='Q_Network')\n",
    "target_network_variables = tf.get_collection(tf.GraphKeys.GLOBAL_VARIABLES, scope='Target_Network')\n",
    "\n",
    "# update target network weights\n",
    "update_target_ops = []\n",
    "for i, target_variable in enumerate(target_network_variables):\n",
    "    update_target_op = target_variable.assign(q_network_variables[i])\n",
    "    update_target_ops.append(update_target_op)\n",
    "update_target_op = tf.group(*update_target_ops, name='update_target')\n"
   ]
  },
  {
   "cell_type": "code",
   "execution_count": 23,
   "metadata": {},
   "outputs": [],
   "source": [
    "\n",
    "# Compute Q-Learning updates\n",
    "# The target, yi, and the predicted q value is computed as follows:\n",
    "\n",
    "# Q target calculation \n",
    "targets = reward + not_done * gamma * tf.gather_nd(target_action_values, tf.stack(\n",
    "                (tf.range(minibatch_size), tf.cast(tf.argmax(next_q_action_values, axis=1), tf.int32)), axis=1))\n",
    "\n",
    "\n",
    "# Estimated Q values for (s,a) from experience replay\n",
    "predicted_q_value = tf.gather_nd(q_action_values,\n",
    "                                 tf.stack((tf.range(minibatch_size),\n",
    "                                           action), axis=1))"
   ]
  },
  {
   "cell_type": "code",
   "execution_count": 24,
   "metadata": {},
   "outputs": [],
   "source": [
    "\n",
    "# Compute Loss Function\n",
    "# Finally, the TD loss function that's used for stochastic gradient descent is the mean squared error (MSE) \n",
    "# between the target and prediction:\n",
    "\n",
    "losses = tf.squared_difference(targets, predicted_q_value)\n",
    "loss = tf.reduce_mean(losses)\n",
    "loss += tf.add_n([tf.nn.l2_loss(var) for var in q_network_variables if 'bias' not in var.name]) * l2_reg * 0.5"
   ]
  },
  {
   "cell_type": "code",
   "execution_count": 25,
   "metadata": {},
   "outputs": [],
   "source": [
    "summaries = tf.summary.merge([\n",
    "    tf.summary.scalar('episode', episode_count),\n",
    "    tf.summary.scalar('loss', loss),\n",
    "    tf.summary.scalar('max_q_value', tf.reduce_max(predicted_q_value)),\n",
    "    tf.summary.histogram('loss_hist', losses),\n",
    "    tf.summary.histogram('q_values', predicted_q_value)])"
   ]
  },
  {
   "cell_type": "code",
   "execution_count": 26,
   "metadata": {},
   "outputs": [],
   "source": [
    "# Use Adam Optimizer\n",
    "\n",
    "train_op = tf.train.AdamOptimizer(learning_rate).minimize(loss,\n",
    "                                                          global_step=tf.train.create_global_step())"
   ]
  },
  {
   "cell_type": "code",
   "execution_count": 27,
   "metadata": {},
   "outputs": [],
   "source": [
    "# Initialize TensorFlow session\n",
    "\n",
    "sess = tf.Session()\n",
    "sess.run(tf.global_variables_initializer())"
   ]
  },
  {
   "cell_type": "code",
   "execution_count": 28,
   "metadata": {},
   "outputs": [],
   "source": [
    "# set experiement \n",
    "# set parameters\n",
    "\n",
    "total_steps, max_episodes = 0, 10000\n",
    "experience = deque(maxlen=replay_capacity)\n",
    "episode_time, navs, market_navs,diffs, episode_eps = [], [], [], [],[]"
   ]
  },
  {
   "cell_type": "code",
   "execution_count": 29,
   "metadata": {},
   "outputs": [],
   "source": [
    "# Initialize variables\n",
    "\n",
    "experience = deque(maxlen=replay_capacity)\n",
    "episode_time, episode_steps, episode_rewards, episode_eps = [], [], [], []"
   ]
  },
  {
   "cell_type": "code",
   "execution_count": 30,
   "metadata": {},
   "outputs": [],
   "source": [
    "epsilon = epsilon_start\n",
    "epsilon_linear_step = (epsilon_start - epsilon_end) / epsilon_linear_steps"
   ]
  },
  {
   "cell_type": "code",
   "execution_count": 31,
   "metadata": {},
   "outputs": [
    {
     "name": "stdout",
     "output_type": "stream",
     "text": [
      "   0 | NAV: 0.637 | Market NAV: 0.531 | Delta:    1 | 00:00.47 | eps:  1.000\n",
      " 250 | NAV: 0.783 | Market NAV: 1.220 | Delta:    8 | 01:25.71 | eps:  0.886\n",
      " 500 | NAV: 0.797 | Market NAV: 1.175 | Delta:   15 | 02:56.54 | eps:  0.773\n",
      " 750 | NAV: 0.787 | Market NAV: 1.130 | Delta:   14 | 04:33.28 | eps:  0.659\n",
      "1000 | NAV: 0.816 | Market NAV: 1.164 | Delta:   10 | 06:15.10 | eps:  0.546\n",
      "1250 | NAV: 0.799 | Market NAV: 1.212 | Delta:   11 | 08:02.93 | eps:  0.433\n",
      "1500 | NAV: 0.946 | Market NAV: 1.168 | Delta:   18 | 09:56.19 | eps:  0.319\n",
      "1750 | NAV: 0.948 | Market NAV: 1.172 | Delta:   21 | 11:54.92 | eps:  0.206\n",
      "2000 | NAV: 1.006 | Market NAV: 1.098 | Delta:   33 | 13:59.27 | eps:  0.100\n",
      "2250 | NAV: 1.234 | Market NAV: 1.192 | Delta:   42 | 16:08.02 | eps:  0.097\n",
      "2500 | NAV: 1.289 | Market NAV: 1.202 | Delta:   52 | 18:20.81 | eps:  0.095\n",
      "2750 | NAV: 1.261 | Market NAV: 1.209 | Delta:   46 | 20:37.05 | eps:  0.093\n",
      "3000 | NAV: 1.307 | Market NAV: 1.207 | Delta:   45 | 22:57.84 | eps:  0.090\n",
      "3250 | NAV: 1.279 | Market NAV: 1.171 | Delta:   52 | 25:23.56 | eps:  0.088\n",
      "3500 | NAV: 1.175 | Market NAV: 1.120 | Delta:   49 | 27:53.39 | eps:  0.086\n",
      "3750 | NAV: 1.262 | Market NAV: 1.183 | Delta:   45 | 30:27.52 | eps:  0.084\n",
      "4000 | NAV: 1.348 | Market NAV: 1.226 | Delta:   54 | 32:59.60 | eps:  0.082\n",
      "4250 | NAV: 1.210 | Market NAV: 1.140 | Delta:   47 | 35:31.35 | eps:  0.080\n",
      "4500 | NAV: 1.217 | Market NAV: 1.166 | Delta:   48 | 38:07.10 | eps:  0.078\n",
      "4750 | NAV: 1.361 | Market NAV: 1.157 | Delta:   61 | 40:40.64 | eps:  0.076\n",
      "5000 | NAV: 1.309 | Market NAV: 1.173 | Delta:   53 | 43:17.69 | eps:  0.074\n",
      "5250 | NAV: 1.321 | Market NAV: 1.192 | Delta:   49 | 45:52.29 | eps:  0.072\n",
      "5500 | NAV: 1.272 | Market NAV: 1.158 | Delta:   48 | 48:20.78 | eps:  0.070\n",
      "5750 | NAV: 1.292 | Market NAV: 1.204 | Delta:   52 | 50:55.17 | eps:  0.069\n",
      "6000 | NAV: 1.503 | Market NAV: 1.168 | Delta:   69 | 53:29.16 | eps:  0.067\n",
      "6250 | NAV: 1.203 | Market NAV: 1.112 | Delta:   57 | 56:02.61 | eps:  0.065\n",
      "6500 | NAV: 1.352 | Market NAV: 1.127 | Delta:   58 | 58:37.33 | eps:  0.064\n",
      "6750 | NAV: 1.401 | Market NAV: 1.144 | Delta:   58 | 01:12.79 | eps:  0.062\n",
      "7000 | NAV: 1.345 | Market NAV: 1.159 | Delta:   54 | 03:48.15 | eps:  0.061\n",
      "7250 | NAV: 1.434 | Market NAV: 1.155 | Delta:   64 | 06:22.68 | eps:  0.059\n",
      "7500 | NAV: 1.570 | Market NAV: 1.208 | Delta:   59 | 08:57.32 | eps:  0.058\n",
      "7750 | NAV: 1.395 | Market NAV: 1.169 | Delta:   61 | 11:25.16 | eps:  0.056\n",
      "8000 | NAV: 1.513 | Market NAV: 1.199 | Delta:   73 | 13:50.15 | eps:  0.055\n",
      "8250 | NAV: 1.434 | Market NAV: 1.195 | Delta:   57 | 16:15.50 | eps:  0.053\n",
      "8500 | NAV: 1.406 | Market NAV: 1.121 | Delta:   60 | 18:44.71 | eps:  0.052\n",
      "8750 | NAV: 1.475 | Market NAV: 1.217 | Delta:   63 | 21:13.36 | eps:  0.051\n",
      "9000 | NAV: 1.553 | Market NAV: 1.232 | Delta:   59 | 23:42.84 | eps:  0.050\n",
      "9250 | NAV: 1.288 | Market NAV: 1.126 | Delta:   55 | 26:14.19 | eps:  0.048\n",
      "9500 | NAV: 1.301 | Market NAV: 1.161 | Delta:   53 | 28:45.99 | eps:  0.047\n",
      "9750 | NAV: 1.302 | Market NAV: 1.093 | Delta:   61 | 31:17.18 | eps:  0.046\n"
     ]
    }
   ],
   "source": [
    "#train agent\n",
    "\n",
    "for episode in range(max_episodes):\n",
    "    episode_start = time()\n",
    "    episode_reward = 0\n",
    "    episode_eps.append(epsilon)\n",
    "\n",
    "    # Initial state\n",
    "    this_observation = trading_environment.reset()\n",
    "    for episode_step in range(max_episode_steps):\n",
    "\n",
    "        # choose action according to epsilon-greedy policy wrt Q\n",
    "\n",
    "        if random() < epsilon:\n",
    "            src = 'eps'\n",
    "            selected_action = randint(n_actions)\n",
    "        else:\n",
    "            src = 'q'\n",
    "            q_s = sess.run(q_action_values,\n",
    "                           feed_dict={state: this_observation[None]})\n",
    "            selected_action = np.argmax(q_s)\n",
    "\n",
    "        next_observation, step_reward, done, _ = trading_environment.step(selected_action)\n",
    "        episode_reward += step_reward\n",
    "\n",
    "        # add to replay buffer\n",
    "        experience.append((this_observation,\n",
    "                           selected_action,\n",
    "                           step_reward,\n",
    "                           next_observation,\n",
    "                           0.0 if done else 1.0))\n",
    "\n",
    "        # update the target weights\n",
    "        if total_steps % tau == 0:\n",
    "            _ = sess.run(update_target_op)\n",
    "\n",
    "        # update weights using minibatch of (s,a,r,s') samples from experience\n",
    "        if len(experience) >= minibatch_size:\n",
    "            minibatch = map(np.array, zip(\n",
    "                *sample(experience, minibatch_size)))\n",
    "            states_batch, action_batch, reward_batch, next_states_batch, done_batch = minibatch\n",
    "\n",
    "            # do a train_op with required inputs\n",
    "            feed_dict = {\n",
    "                state: states_batch,\n",
    "                action: action_batch,\n",
    "                reward: reward_batch,\n",
    "                next_state: next_states_batch,\n",
    "                not_done: done_batch}\n",
    "            _ = sess.run([train_op],\n",
    "                         feed_dict=feed_dict)\n",
    "\n",
    "        this_observation = next_observation\n",
    "        total_steps += 1\n",
    "\n",
    "        # linearly decay epsilon from epsilon_start to epsilon_end for epsilon_linear_steps\n",
    "        if total_steps < epsilon_linear_steps:\n",
    "            epsilon -= epsilon_linear_step\n",
    "        # then exponentially decay every episode\n",
    "        elif done:\n",
    "            epsilon *= epsilon_exp_decay\n",
    "\n",
    "        if done:\n",
    "            # Increment episode counter\n",
    "            episode_, _ = sess.run([episode_count, add_episode])\n",
    "            break\n",
    "\n",
    "    episode_time.append(time()-episode_start)\n",
    "    result = trading_environment.env.sim.result()\n",
    "    final = result.iloc[-1]\n",
    "\n",
    "    nav = final.nav * (1 + final.strategy_return)\n",
    "    navs.append(nav)\n",
    "\n",
    "    market_nav = final.market_nav\n",
    "    market_navs.append(market_nav)\n",
    "\n",
    "    diff = nav - market_nav\n",
    "    diffs.append(diff)\n",
    "    if episode % 250 == 0:\n",
    "        track_results(episode,\n",
    "                      np.mean(navs[-100:]),\n",
    "                      np.mean(market_navs[-100:]),\n",
    "                      np.sum([s > 0 for s in diffs[-100:]]),\n",
    "                      sum(episode_time),\n",
    "                      epsilon)\n",
    "\n",
    "    if len(diffs) > 25 and all([r > 0 for r in diffs[-25:]]):\n",
    "        print(result.tail())\n",
    "        break\n",
    "\n",
    "trading_environment.close()"
   ]
  },
  {
   "cell_type": "code",
   "execution_count": 32,
   "metadata": {},
   "outputs": [
    {
     "name": "stdout",
     "output_type": "stream",
     "text": [
      "      episode       nav  market_nav  outperform\n",
      "0           1  0.636558    0.531126    0.105432\n",
      "1           2  0.735221    1.034361   -0.299140\n",
      "2           3  0.696142    1.078055   -0.381914\n",
      "3           4  0.781607    1.252635   -0.471028\n",
      "4           5  0.510654    1.151485   -0.640831\n",
      "...       ...       ...         ...         ...\n",
      "9995     9996  1.625032    1.290427    0.334605\n",
      "9996     9997  1.539598    1.264290    0.275308\n",
      "9997     9998  0.501052    0.651951   -0.150899\n",
      "9998     9999  1.154552    0.992205    0.162347\n",
      "9999    10000  2.237173    1.350815    0.886359\n",
      "\n",
      "[10000 rows x 4 columns]\n"
     ]
    }
   ],
   "source": [
    "#store results\n",
    "\n",
    "results = pd.DataFrame({'episode': list(range(1, episode + 2)),\n",
    "                        'nav': navs,\n",
    "                        'market_nav': market_navs,\n",
    "                        'outperform': diffs})\n",
    "print(results)\n",
    "fn = '/Users/nicholasjenkins/Documents/TradingEnvironment/data/trading_agent_result_no_cost.csv'\n",
    "results.to_csv(fn, index=False)"
   ]
  },
  {
   "cell_type": "code",
   "execution_count": 33,
   "metadata": {},
   "outputs": [
    {
     "name": "stdout",
     "output_type": "stream",
     "text": [
      "<class 'pandas.core.frame.DataFrame'>\n",
      "Int64Index: 10000 entries, 1 to 10000\n",
      "Data columns (total 4 columns):\n",
      " #   Column             Non-Null Count  Dtype  \n",
      "---  ------             --------------  -----  \n",
      " 0   nav                10000 non-null  float64\n",
      " 1   market_nav         10000 non-null  float64\n",
      " 2   diffs              10000 non-null  float64\n",
      " 3   Strategy Wins (%)  9901 non-null   float64\n",
      "dtypes: float64(4)\n",
      "memory usage: 390.6 KB\n"
     ]
    }
   ],
   "source": [
    "results = pd.read_csv('/Users/nicholasjenkins/Documents/TradingEnvironment/data/trading_agent_result_no_cost.csv')\n",
    "results.columns = ['episode', 'nav', 'market_nav', 'diffs']\n",
    "results = results.set_index('episode')\n",
    "results['Strategy Wins (%)'] = (results.diffs > 0).rolling(100).sum()\n",
    "results.info()"
   ]
  },
  {
   "cell_type": "code",
   "execution_count": 34,
   "metadata": {},
   "outputs": [
    {
     "data": {
      "image/png": "[encoded data removed]",
      "text/plain": [
       "<Figure size 1008x288 with 2 Axes>"
      ]
     },
     "metadata": {},
     "output_type": "display_data"
    }
   ],
   "source": [
    "# Evaluate and display results\n",
    "\n",
    "# The following diagram shows the rolling average of agent and market returns over 100 periods on the left, \n",
    "# and the share of the last 100 periods the agent outperformed the market on the right. \n",
    "# It uses AAPL stock data for which there are some 9,000 daily price and volume observations. \n",
    "# Training stopped after 14,000 trading periods when the agent beat the market 10 consecutive times.\n",
    "# It shows how the agent's performance improves significantly while exploring at a higher rate \n",
    "# over the first ~3,000 periods (that is, years) and approaches a level where it outperforms the market \n",
    "# around 40 percent of the time, despite transaction costs. In a few instances, it beats the market about \n",
    "# half the time out of 100 periods:\n",
    "\n",
    "fig, axes = plt.subplots(ncols=2, figsize=(14,4))\n",
    "(results[['nav', 'market_nav']]\n",
    " .sub(1)\n",
    " .rolling(100)\n",
    " .mean()\n",
    " .plot(ax=axes[0], \n",
    "       title='Annual Returns (Moving Average)', lw=1))\n",
    "results['Strategy Wins (%)'].div(100).rolling(50).mean().plot(ax=axes[1], title='Agent Outperformance (%, Moving Average)');\n",
    "for ax in axes:\n",
    "    ax.yaxis.set_major_formatter(FuncFormatter(lambda y, _: '{:.0%}'.format(y)))\n",
    "    ax.xaxis.set_major_formatter(FuncFormatter(lambda x, _: '{:,.0f}'.format(x)))\n",
    "fig.tight_layout()\n",
    "# fig.savefig('figures/trading_agent', dpi=300)"
   ]
  },
  {
   "cell_type": "code",
   "execution_count": null,
   "metadata": {},
   "outputs": [],
   "source": []
  },
  {
   "cell_type": "code",
   "execution_count": null,
   "metadata": {},
   "outputs": [],
   "source": []
  }
 ],
 "metadata": {
  "kernelspec": {
   "display_name": "Python 3",
   "language": "python",
   "name": "python3"
  },
  "language_info": {
   "codemirror_mode": {
    "name": "ipython",
    "version": 3
   },
   "file_extension": ".py",
   "mimetype": "text/x-python",
   "name": "python",
   "nbconvert_exporter": "python",
   "pygments_lexer": "ipython3",
   "version": "3.8.2"
  }
 },
 "nbformat": 4,
 "nbformat_minor": 4
}
